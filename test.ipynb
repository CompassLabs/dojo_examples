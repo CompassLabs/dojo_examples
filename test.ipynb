{
 "cells": [
  {
   "cell_type": "code",
   "execution_count": null,
   "metadata": {},
   "outputs": [],
   "source": [
    "!pip install dojo-compass\n",
    "!npm install --save-dev hardhat"
   ]
  },
  {
   "cell_type": "code",
   "execution_count": null,
   "metadata": {},
   "outputs": [],
   "source": [
    "[![Open In Colab](https://colab.research.google.com/assets/colab-badge.svg)](https://colab.research.google.com/github/dojo_examples/blob/test/test.ipynb)\n"
   ]
  },
  {
   "cell_type": "code",
   "execution_count": null,
   "metadata": {},
   "outputs": [],
   "source": [
    "!export CHAIN=ethereum\n",
    "!export LICENSE_KEY=<YOUR_KEY> #TODO: insert your license key here\n",
    "!export RPC_URL=TODO"
   ]
  },
  {
   "attachments": {},
   "cell_type": "markdown",
   "metadata": {},
   "source": [
    "[![Open In Colab](https://colab.research.google.com/assets/colab-badge.svg)](https://colab.research.google.com/github/dojo_examples/blob/test/test.ipynb)\n",
    "\n",
    "[Open In Colab](https://colab.research.google.com/github/dojo_examples/blob/test/test.ipynb)\n"
   ]
  },
  {
   "cell_type": "code",
   "execution_count": null,
   "metadata": {},
   "outputs": [],
   "source": []
  },
  {
   "cell_type": "code",
   "execution_count": null,
   "metadata": {},
   "outputs": [],
   "source": [
    "import logging\n",
    "from decimal import Decimal\n",
    "\n",
    "import matplotlib.pyplot as plt\n",
    "\n",
    "logging.basicConfig(format=\"%(asctime)s - %(message)s\", level=20)\n",
    "\n",
    "from dateutil import parser as dateparser\n",
    "\n",
    "from demo.agents import UniV3PoolWealthAgent\n",
    "from demo.policies import MovingAveragePolicy\n",
    "from dojo.environments import UniV3Env\n",
    "from dojo.runners import backtest_run\n",
    "\n",
    "# SNIPPET 1 START\n",
    "pool = \"0x8ad599c3A0ff1De082011EFDDc58f1908eb6e6D8\"\n",
    "start_time = dateparser.parse(\"2023-04-29 10:00:00 UTC\")\n",
    "end_time = dateparser.parse(\"2023-05-01 10:00:00 UTC\")\n",
    "\n",
    "demo_agent = UniV3PoolWealthAgent(\n",
    "    initial_portfolio={\"USDC\": Decimal(10_000), \"WETH\": Decimal(1)}\n",
    ")\n",
    "\n",
    "env = UniV3Env(\n",
    "    date_range=(start_time, end_time),\n",
    "    agents=[demo_agent],\n",
    "    pools=[pool],\n",
    "    market_impact=\"replay\",\n",
    ")\n",
    "\n",
    "demo_policy = MovingAveragePolicy(agent=demo_agent, short_window=200, long_window=1000)\n",
    "\n",
    "sim_blocks, sim_rewards = backtest_run(env, [demo_policy], port=8051)\n",
    "plt.plot(sim_blocks, sim_rewards)\n",
    "# SNIPPET 1 END"
   ]
  }
 ],
 "metadata": {
  "language_info": {
   "name": "python"
  },
  "orig_nbformat": 4
 },
 "nbformat": 4,
 "nbformat_minor": 2
}
